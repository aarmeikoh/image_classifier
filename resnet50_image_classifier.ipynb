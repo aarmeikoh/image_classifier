{
 "cells": [
  {
   "cell_type": "code",
   "execution_count": 22,
   "metadata": {},
   "outputs": [],
   "source": [
    "from keras.applications.resnet50 import ResNet50\n",
    "from keras.applications.imagenet_utils import preprocess_input, decode_predictions\n",
    "from keras.models import load_model\n",
    "from keras.preprocessing import image\n"
   ]
  },
  {
   "cell_type": "code",
   "execution_count": 23,
   "metadata": {},
   "outputs": [],
   "source": [
    "model = ResNet50(weights= 'imagenet')"
   ]
  },
  {
   "cell_type": "code",
   "execution_count": 24,
   "metadata": {},
   "outputs": [
    {
     "name": "stdout",
     "output_type": "stream",
     "text": [
      "Images/lawnmower.jpg\n",
      "Images/geco.jpg\n",
      "Images/lion.jpg\n",
      "Images/clown face.jpg\n",
      "Images/horse.jpg\n",
      "Images/pencil.jpg\n",
      "Images/girl.jpg\n",
      "Images/chair.jpg\n"
     ]
    },
    {
     "data": {
      "text/plain": [
       "[[[('n03649909', 'lawn_mower', 0.994344)]],\n",
       " [[('n02177972', 'weevil', 0.64347905)]],\n",
       " [[('n02437312', 'Arabian_camel', 0.82354516)]],\n",
       " [[('n03724870', 'mask', 0.87803954)]],\n",
       " [[('n02389026', 'sorrel', 0.9992636)]],\n",
       " [[('n04116512', 'rubber_eraser', 0.4899629)]],\n",
       " [[('n04325704', 'stole', 0.27492344)]],\n",
       " [[('n04553703', 'washbasin', 0.195905)]]]"
      ]
     },
     "execution_count": 24,
     "metadata": {},
     "output_type": "execute_result"
    }
   ],
   "source": [
    "import os\n",
    "import numpy as np\n",
    "path = 'Images'\n",
    "# with open(path) as f:\n",
    "pred_titles = []\n",
    "for i in os.listdir(path):\n",
    "    print(f'{path}/{i}')\n",
    "    orig = image.load_img(f'{path}/{i}', target_size= (224, 224))\n",
    "    npim = image.img_to_array(orig)\n",
    "    baim = np.expand_dims(npim, axis= 0)\n",
    "    prim = preprocess_input(baim)\n",
    "    pred = model.predict(prim)\n",
    "    pred_titles.append(decode_predictions(pred, top= 1))\n",
    "pred_titles"
   ]
  },
  {
   "cell_type": "code",
   "execution_count": 26,
   "metadata": {},
   "outputs": [
    {
     "data": {
      "text/html": [
       "<div>\n",
       "<style scoped>\n",
       "    .dataframe tbody tr th:only-of-type {\n",
       "        vertical-align: middle;\n",
       "    }\n",
       "\n",
       "    .dataframe tbody tr th {\n",
       "        vertical-align: top;\n",
       "    }\n",
       "\n",
       "    .dataframe thead th {\n",
       "        text-align: right;\n",
       "    }\n",
       "</style>\n",
       "<table border=\"1\" class=\"dataframe\">\n",
       "  <thead>\n",
       "    <tr style=\"text-align: right;\">\n",
       "      <th></th>\n",
       "      <th>File</th>\n",
       "      <th>Predicted Title</th>\n",
       "    </tr>\n",
       "  </thead>\n",
       "  <tbody>\n",
       "    <tr>\n",
       "      <th>0</th>\n",
       "      <td>lawnmower.jpg</td>\n",
       "      <td>(lawn_mower, 0.994344)</td>\n",
       "    </tr>\n",
       "    <tr>\n",
       "      <th>1</th>\n",
       "      <td>geco.jpg</td>\n",
       "      <td>(weevil, 0.64347905)</td>\n",
       "    </tr>\n",
       "    <tr>\n",
       "      <th>2</th>\n",
       "      <td>lion.jpg</td>\n",
       "      <td>(Arabian_camel, 0.82354516)</td>\n",
       "    </tr>\n",
       "    <tr>\n",
       "      <th>3</th>\n",
       "      <td>clown face.jpg</td>\n",
       "      <td>(mask, 0.87803954)</td>\n",
       "    </tr>\n",
       "    <tr>\n",
       "      <th>4</th>\n",
       "      <td>horse.jpg</td>\n",
       "      <td>(sorrel, 0.9992636)</td>\n",
       "    </tr>\n",
       "    <tr>\n",
       "      <th>5</th>\n",
       "      <td>pencil.jpg</td>\n",
       "      <td>(rubber_eraser, 0.4899629)</td>\n",
       "    </tr>\n",
       "    <tr>\n",
       "      <th>6</th>\n",
       "      <td>girl.jpg</td>\n",
       "      <td>(stole, 0.27492344)</td>\n",
       "    </tr>\n",
       "    <tr>\n",
       "      <th>7</th>\n",
       "      <td>chair.jpg</td>\n",
       "      <td>(washbasin, 0.195905)</td>\n",
       "    </tr>\n",
       "  </tbody>\n",
       "</table>\n",
       "</div>"
      ],
      "text/plain": [
       "             File              Predicted Title\n",
       "0   lawnmower.jpg       (lawn_mower, 0.994344)\n",
       "1        geco.jpg         (weevil, 0.64347905)\n",
       "2        lion.jpg  (Arabian_camel, 0.82354516)\n",
       "3  clown face.jpg           (mask, 0.87803954)\n",
       "4       horse.jpg          (sorrel, 0.9992636)\n",
       "5      pencil.jpg   (rubber_eraser, 0.4899629)\n",
       "6        girl.jpg          (stole, 0.27492344)\n",
       "7       chair.jpg        (washbasin, 0.195905)"
      ]
     },
     "execution_count": 26,
     "metadata": {},
     "output_type": "execute_result"
    }
   ],
   "source": [
    "import pandas as pd\n",
    "name = []\n",
    "title = []\n",
    "for n in os.listdir(path):\n",
    "    name.append(n)\n",
    "for t in pred_titles:\n",
    "    title.append(t[0][0][1:])\n",
    "pred_df = pd.DataFrame({'File' : name, 'Predicted Title': title})\n",
    "pred_df"
   ]
  },
  {
   "cell_type": "code",
   "execution_count": null,
   "metadata": {},
   "outputs": [],
   "source": [
    "pred_df.to_csv('Results/predictions/resne')"
   ]
  }
 ],
 "metadata": {
  "kernelspec": {
   "display_name": "Python 3",
   "language": "python",
   "name": "python3"
  },
  "language_info": {
   "codemirror_mode": {
    "name": "ipython",
    "version": 3
   },
   "file_extension": ".py",
   "mimetype": "text/x-python",
   "name": "python",
   "nbconvert_exporter": "python",
   "pygments_lexer": "ipython3",
   "version": "3.8.3"
  }
 },
 "nbformat": 4,
 "nbformat_minor": 4
}
