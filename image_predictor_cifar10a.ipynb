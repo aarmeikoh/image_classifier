{
 "cells": [
  {
   "cell_type": "code",
   "execution_count": 42,
   "metadata": {},
   "outputs": [],
   "source": [
    "from keras.datasets import cifar10\n",
    "from keras import layers, models, optimizers\n",
    "from keras.utils import to_categorical\n",
    "from keras.preprocessing.image import ImageDataGenerator"
   ]
  },
  {
   "cell_type": "code",
   "execution_count": 26,
   "metadata": {
    "scrolled": true
   },
   "outputs": [],
   "source": [
    "(x_train, y_train), (x_test, y_test) = cifar10.load_data()"
   ]
  },
  {
   "cell_type": "code",
   "execution_count": 27,
   "metadata": {},
   "outputs": [
    {
     "name": "stdout",
     "output_type": "stream",
     "text": [
      "Model: \"sequential_4\"\n",
      "_________________________________________________________________\n",
      "Layer (type)                 Output Shape              Param #   \n",
      "=================================================================\n",
      "conv2d_12 (Conv2D)           (None, 30, 30, 32)        896       \n",
      "_________________________________________________________________\n",
      "conv2d_13 (Conv2D)           (None, 28, 28, 64)        18496     \n",
      "_________________________________________________________________\n",
      "max_pooling2d_5 (MaxPooling2 (None, 14, 14, 64)        0         \n",
      "_________________________________________________________________\n",
      "conv2d_14 (Conv2D)           (None, 12, 12, 128)       73856     \n",
      "_________________________________________________________________\n",
      "conv2d_15 (Conv2D)           (None, 10, 10, 128)       147584    \n",
      "_________________________________________________________________\n",
      "max_pooling2d_6 (MaxPooling2 (None, 5, 5, 128)         0         \n",
      "_________________________________________________________________\n",
      "flatten_1 (Flatten)          (None, 3200)              0         \n",
      "_________________________________________________________________\n",
      "dense_2 (Dense)              (None, 512)               1638912   \n",
      "_________________________________________________________________\n",
      "dense_3 (Dense)              (None, 10)                5130      \n",
      "=================================================================\n",
      "Total params: 1,884,874\n",
      "Trainable params: 1,884,874\n",
      "Non-trainable params: 0\n",
      "_________________________________________________________________\n"
     ]
    }
   ],
   "source": [
    "model = models.Sequential()\n",
    "model.add(layers.Conv2D(32, (3, 3), activation= 'relu', input_shape= (32, 32, 3)))\n",
    "model.add(layers.Conv2D(64, (3, 3), activation= 'relu'))\n",
    "model.add(layers.MaxPooling2D((2,2)))\n",
    "model.add(layers.Conv2D(128, (3,3), activation= 'relu'))\n",
    "model.add(layers.Conv2D(128, (3,3), activation= 'relu'))\n",
    "model.add(layers.MaxPooling2D((2,2)))\n",
    "model.add(layers.Flatten())\n",
    "model.add(layers.Dense(512, activation= 'relu'))\n",
    "model.add(layers.Dense(10, activation= 'softmax'))\n",
    "\n",
    "model.summary()"
   ]
  },
  {
   "cell_type": "code",
   "execution_count": 28,
   "metadata": {},
   "outputs": [],
   "source": [
    "\n",
    "model.compile(optimizer= optimizers.RMSprop(lr=1e-4),\n",
    "             loss= 'categorical_crossentropy',\n",
    "             metrics= ['accuracy'])"
   ]
  },
  {
   "cell_type": "code",
   "execution_count": 29,
   "metadata": {},
   "outputs": [],
   "source": [
    "x_train = x_train.astype('float32') / 255\n",
    "x_test = x_test.astype('float32') / 255\n",
    "\n",
    "y_train = to_categorical(y_train)\n",
    "y_test = to_categorical(y_test)\n",
    "\n",
    "x_val = x_train[:1000]\n",
    "x_part = x_train[1000:3000] # select small data set to see effect of data augmentation in part 2\n",
    "y_val = y_train[:1000]\n",
    "y_part = y_train[1000:3000]"
   ]
  },
  {
   "cell_type": "code",
   "execution_count": 30,
   "metadata": {},
   "outputs": [
    {
     "data": {
      "text/plain": [
       "((50000, 32, 32, 3), (50000, 10))"
      ]
     },
     "execution_count": 30,
     "metadata": {},
     "output_type": "execute_result"
    }
   ],
   "source": [
    "x_train.shape, y_train.shape"
   ]
  },
  {
   "cell_type": "code",
   "execution_count": 32,
   "metadata": {},
   "outputs": [
    {
     "name": "stdout",
     "output_type": "stream",
     "text": [
      "Epoch 1/30\n",
      "63/63 [==============================] - 2s 36ms/step - loss: 2.2512 - accuracy: 0.1645 - val_loss: 2.1037 - val_accuracy: 0.2490\n",
      "Epoch 2/30\n",
      "63/63 [==============================] - 3s 44ms/step - loss: 1.9988 - accuracy: 0.2725 - val_loss: 1.8941 - val_accuracy: 0.3090\n",
      "Epoch 3/30\n",
      "63/63 [==============================] - 2s 33ms/step - loss: 1.8471 - accuracy: 0.3395 - val_loss: 1.9991 - val_accuracy: 0.2910\n",
      "Epoch 4/30\n",
      "63/63 [==============================] - 2s 33ms/step - loss: 1.7605 - accuracy: 0.3780 - val_loss: 1.7903 - val_accuracy: 0.3500\n",
      "Epoch 5/30\n",
      "63/63 [==============================] - 2s 33ms/step - loss: 1.7042 - accuracy: 0.4015 - val_loss: 1.7056 - val_accuracy: 0.3990\n",
      "Epoch 6/30\n",
      "63/63 [==============================] - 2s 34ms/step - loss: 1.6563 - accuracy: 0.4150 - val_loss: 1.7250 - val_accuracy: 0.3940\n",
      "Epoch 7/30\n",
      "63/63 [==============================] - 2s 33ms/step - loss: 1.6003 - accuracy: 0.4345 - val_loss: 1.6265 - val_accuracy: 0.4260\n",
      "Epoch 8/30\n",
      "63/63 [==============================] - 2s 33ms/step - loss: 1.5456 - accuracy: 0.4445 - val_loss: 1.6740 - val_accuracy: 0.4040\n",
      "Epoch 9/30\n",
      "63/63 [==============================] - 2s 32ms/step - loss: 1.5008 - accuracy: 0.4665 - val_loss: 1.6890 - val_accuracy: 0.3900\n",
      "Epoch 10/30\n",
      "63/63 [==============================] - 2s 33ms/step - loss: 1.4637 - accuracy: 0.4915 - val_loss: 1.6509 - val_accuracy: 0.3960\n",
      "Epoch 11/30\n",
      "63/63 [==============================] - 2s 33ms/step - loss: 1.4124 - accuracy: 0.4930 - val_loss: 1.6323 - val_accuracy: 0.4060\n",
      "Epoch 12/30\n",
      "63/63 [==============================] - 2s 33ms/step - loss: 1.3789 - accuracy: 0.5150 - val_loss: 1.5957 - val_accuracy: 0.4450\n",
      "Epoch 13/30\n",
      "63/63 [==============================] - 2s 33ms/step - loss: 1.3240 - accuracy: 0.5315 - val_loss: 1.6346 - val_accuracy: 0.4080\n",
      "Epoch 14/30\n",
      "63/63 [==============================] - 2s 32ms/step - loss: 1.2717 - accuracy: 0.5545 - val_loss: 1.6498 - val_accuracy: 0.3980\n",
      "Epoch 15/30\n",
      "63/63 [==============================] - 2s 33ms/step - loss: 1.2294 - accuracy: 0.5650 - val_loss: 1.6371 - val_accuracy: 0.4340\n",
      "Epoch 16/30\n",
      "63/63 [==============================] - 2s 33ms/step - loss: 1.1968 - accuracy: 0.5845 - val_loss: 1.5417 - val_accuracy: 0.4600\n",
      "Epoch 17/30\n",
      "63/63 [==============================] - 2s 33ms/step - loss: 1.1474 - accuracy: 0.5895 - val_loss: 1.5620 - val_accuracy: 0.4450\n",
      "Epoch 18/30\n",
      "63/63 [==============================] - 2s 32ms/step - loss: 1.1200 - accuracy: 0.6045 - val_loss: 1.6792 - val_accuracy: 0.4430\n",
      "Epoch 19/30\n",
      "63/63 [==============================] - 2s 32ms/step - loss: 1.0627 - accuracy: 0.6335 - val_loss: 1.8313 - val_accuracy: 0.4030\n",
      "Epoch 20/30\n",
      "63/63 [==============================] - 2s 33ms/step - loss: 1.0158 - accuracy: 0.6410 - val_loss: 1.5643 - val_accuracy: 0.4670\n",
      "Epoch 21/30\n",
      "63/63 [==============================] - 2s 32ms/step - loss: 0.9686 - accuracy: 0.6630 - val_loss: 1.6474 - val_accuracy: 0.4440\n",
      "Epoch 22/30\n",
      "63/63 [==============================] - 2s 32ms/step - loss: 0.9395 - accuracy: 0.6785 - val_loss: 1.8900 - val_accuracy: 0.4350\n",
      "Epoch 23/30\n",
      "63/63 [==============================] - 2s 33ms/step - loss: 0.8998 - accuracy: 0.6900 - val_loss: 1.6169 - val_accuracy: 0.4730\n",
      "Epoch 24/30\n",
      "63/63 [==============================] - 2s 33ms/step - loss: 0.8512 - accuracy: 0.7055 - val_loss: 1.8251 - val_accuracy: 0.4340\n",
      "Epoch 25/30\n",
      "63/63 [==============================] - 2s 33ms/step - loss: 0.8152 - accuracy: 0.7200 - val_loss: 1.6865 - val_accuracy: 0.4450\n",
      "Epoch 26/30\n",
      "63/63 [==============================] - 2s 33ms/step - loss: 0.7613 - accuracy: 0.7390 - val_loss: 1.7419 - val_accuracy: 0.4480\n",
      "Epoch 27/30\n",
      "63/63 [==============================] - 2s 33ms/step - loss: 0.7224 - accuracy: 0.7475 - val_loss: 1.6848 - val_accuracy: 0.4720\n",
      "Epoch 28/30\n",
      "63/63 [==============================] - 2s 33ms/step - loss: 0.6751 - accuracy: 0.7700 - val_loss: 1.7483 - val_accuracy: 0.4710\n",
      "Epoch 29/30\n",
      "63/63 [==============================] - 2s 34ms/step - loss: 0.6349 - accuracy: 0.7870 - val_loss: 1.8911 - val_accuracy: 0.4530\n",
      "Epoch 30/30\n",
      "63/63 [==============================] - 2s 32ms/step - loss: 0.5975 - accuracy: 0.8065 - val_loss: 1.7600 - val_accuracy: 0.4840\n"
     ]
    }
   ],
   "source": [
    "history = model.fit(x_part, y_part, epochs= 30, validation_data= (x_val, y_val))"
   ]
  },
  {
   "cell_type": "code",
   "execution_count": 35,
   "metadata": {},
   "outputs": [
    {
     "data": {
      "image/png": "[encoded data removed]",
      "text/plain": [
       "<Figure size 432x288 with 1 Axes>"
      ]
     },
     "metadata": {
      "needs_background": "light"
     },
     "output_type": "display_data"
    }
   ],
   "source": [
    "import matplotlib.pyplot as plt\n",
    "\n",
    "acc = history.history['accuracy']\n",
    "val_acc = history.history['val_accuracy']\n",
    "loss = history.history['loss']\n",
    "val_loss = history.history['val_loss']\n",
    "epochs = range(1, len(acc) +1)\n",
    "\n",
    "plt.plot(epochs, loss, 'bo', label= 'Training Loss')\n",
    "plt.plot(epochs, val_loss, 'r', label= 'Validation Loss')\n",
    "plt.title('Training and validation loss of cifar10 model')\n",
    "plt.legend()\n",
    "plt.savefig('Results/6_2a/Loss.png');"
   ]
  },
  {
   "cell_type": "code",
   "execution_count": 43,
   "metadata": {},
   "outputs": [
    {
     "data": {
      "image/png": "[encoded data removed]",
      "text/plain": [
       "<Figure size 432x288 with 1 Axes>"
      ]
     },
     "metadata": {
      "needs_background": "light"
     },
     "output_type": "display_data"
    }
   ],
   "source": [
    "plt.plot(epochs, acc, 'bo', label= 'Training accuracy')\n",
    "plt.plot(epochs, val_acc, 'r', label= 'Validation accuracy')\n",
    "plt.title('Training and validation accuracy of cifar10 model')\n",
    "plt.legend()\n",
    "plt.savefig('Results/6_2a/Accuracy.png');"
   ]
  },
  {
   "cell_type": "code",
   "execution_count": 38,
   "metadata": {},
   "outputs": [],
   "source": [
    "model.save('Results/6_2a/model1.h5')"
   ]
  },
  {
   "cell_type": "code",
   "execution_count": 39,
   "metadata": {},
   "outputs": [
    {
     "name": "stdout",
     "output_type": "stream",
     "text": [
      "313/313 [==============================] - 3s 11ms/step - loss: 1.7394 - accuracy: 0.4712\n",
      "The model reult for the test data is loss 1.7394400835037231 and accuracy 0.47119998931884766\n"
     ]
    }
   ],
   "source": [
    "result = model.evaluate(x_test, y_test)\n",
    "print(f'The model result for the test data is loss {result[0]} and accuracy {result[1]}')"
   ]
  },
  {
   "cell_type": "code",
   "execution_count": 40,
   "metadata": {},
   "outputs": [
    {
     "data": {
      "text/html": [
       "<div>\n",
       "<style scoped>\n",
       "    .dataframe tbody tr th:only-of-type {\n",
       "        vertical-align: middle;\n",
       "    }\n",
       "\n",
       "    .dataframe tbody tr th {\n",
       "        vertical-align: top;\n",
       "    }\n",
       "\n",
       "    .dataframe thead th {\n",
       "        text-align: right;\n",
       "    }\n",
       "</style>\n",
       "<table border=\"1\" class=\"dataframe\">\n",
       "  <thead>\n",
       "    <tr style=\"text-align: right;\">\n",
       "      <th></th>\n",
       "      <th>Actual</th>\n",
       "      <th>Predicted</th>\n",
       "    </tr>\n",
       "  </thead>\n",
       "  <tbody>\n",
       "    <tr>\n",
       "      <th>0</th>\n",
       "      <td>3</td>\n",
       "      <td>3</td>\n",
       "    </tr>\n",
       "    <tr>\n",
       "      <th>1</th>\n",
       "      <td>8</td>\n",
       "      <td>1</td>\n",
       "    </tr>\n",
       "    <tr>\n",
       "      <th>2</th>\n",
       "      <td>8</td>\n",
       "      <td>9</td>\n",
       "    </tr>\n",
       "    <tr>\n",
       "      <th>3</th>\n",
       "      <td>0</td>\n",
       "      <td>8</td>\n",
       "    </tr>\n",
       "    <tr>\n",
       "      <th>4</th>\n",
       "      <td>6</td>\n",
       "      <td>5</td>\n",
       "    </tr>\n",
       "    <tr>\n",
       "      <th>...</th>\n",
       "      <td>...</td>\n",
       "      <td>...</td>\n",
       "    </tr>\n",
       "    <tr>\n",
       "      <th>9995</th>\n",
       "      <td>8</td>\n",
       "      <td>5</td>\n",
       "    </tr>\n",
       "    <tr>\n",
       "      <th>9996</th>\n",
       "      <td>3</td>\n",
       "      <td>6</td>\n",
       "    </tr>\n",
       "    <tr>\n",
       "      <th>9997</th>\n",
       "      <td>5</td>\n",
       "      <td>3</td>\n",
       "    </tr>\n",
       "    <tr>\n",
       "      <th>9998</th>\n",
       "      <td>1</td>\n",
       "      <td>4</td>\n",
       "    </tr>\n",
       "    <tr>\n",
       "      <th>9999</th>\n",
       "      <td>7</td>\n",
       "      <td>7</td>\n",
       "    </tr>\n",
       "  </tbody>\n",
       "</table>\n",
       "<p>10000 rows × 2 columns</p>\n",
       "</div>"
      ],
      "text/plain": [
       "      Actual  Predicted\n",
       "0          3          3\n",
       "1          8          1\n",
       "2          8          9\n",
       "3          0          8\n",
       "4          6          5\n",
       "...      ...        ...\n",
       "9995       8          5\n",
       "9996       3          6\n",
       "9997       5          3\n",
       "9998       1          4\n",
       "9999       7          7\n",
       "\n",
       "[10000 rows x 2 columns]"
      ]
     },
     "execution_count": 40,
     "metadata": {},
     "output_type": "execute_result"
    }
   ],
   "source": [
    "import numpy as np\n",
    "import pandas as pd\n",
    "preds = model.predict(x_test)\n",
    "pred_class = np.argmax(preds, axis= 1)\n",
    "act = np.argmax(y_test, axis= 1)\n",
    "pred_df = pd.DataFrame({'Actual':act, 'Predicted':pred_class})\n",
    "pred_df"
   ]
  },
  {
   "cell_type": "code",
   "execution_count": 41,
   "metadata": {},
   "outputs": [],
   "source": [
    "pred_df.to_csv('Results/6_2a/predictions.csv')"
   ]
  },
  {
   "cell_type": "code",
   "execution_count": null,
   "metadata": {},
   "outputs": [],
   "source": []
  }
 ],
 "metadata": {
  "kernelspec": {
   "display_name": "Python 3 (ipykernel)",
   "language": "python",
   "name": "python3"
  },
  "language_info": {
   "codemirror_mode": {
    "name": "ipython",
    "version": 3
   },
   "file_extension": ".py",
   "mimetype": "text/x-python",
   "name": "python",
   "nbconvert_exporter": "python",
   "pygments_lexer": "ipython3",
   "version": "3.9.7"
  }
 },
 "nbformat": 4,
 "nbformat_minor": 4
}
