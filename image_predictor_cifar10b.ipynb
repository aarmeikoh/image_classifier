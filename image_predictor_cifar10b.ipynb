{
 "cells": [
  {
   "cell_type": "code",
   "execution_count": 1,
   "metadata": {},
   "outputs": [],
   "source": [
    "from keras.datasets import cifar10\n",
    "from keras import layers, models, optimizers\n",
    "from keras.utils import to_categorical\n",
    "from keras.preprocessing.image import ImageDataGenerator"
   ]
  },
  {
   "cell_type": "code",
   "execution_count": 2,
   "metadata": {},
   "outputs": [
    {
     "name": "stdout",
     "output_type": "stream",
     "text": [
      "Model: \"sequential\"\n",
      "_________________________________________________________________\n",
      "Layer (type)                 Output Shape              Param #   \n",
      "=================================================================\n",
      "conv2d (Conv2D)              (None, 30, 30, 32)        896       \n",
      "_________________________________________________________________\n",
      "conv2d_1 (Conv2D)            (None, 28, 28, 64)        18496     \n",
      "_________________________________________________________________\n",
      "max_pooling2d (MaxPooling2D) (None, 14, 14, 64)        0         \n",
      "_________________________________________________________________\n",
      "conv2d_2 (Conv2D)            (None, 12, 12, 128)       73856     \n",
      "_________________________________________________________________\n",
      "conv2d_3 (Conv2D)            (None, 10, 10, 128)       147584    \n",
      "_________________________________________________________________\n",
      "max_pooling2d_1 (MaxPooling2 (None, 5, 5, 128)         0         \n",
      "_________________________________________________________________\n",
      "flatten (Flatten)            (None, 3200)              0         \n",
      "_________________________________________________________________\n",
      "dropout (Dropout)            (None, 3200)              0         \n",
      "_________________________________________________________________\n",
      "dense (Dense)                (None, 512)               1638912   \n",
      "_________________________________________________________________\n",
      "dense_1 (Dense)              (None, 10)                5130      \n",
      "=================================================================\n",
      "Total params: 1,884,874\n",
      "Trainable params: 1,884,874\n",
      "Non-trainable params: 0\n",
      "_________________________________________________________________\n"
     ]
    }
   ],
   "source": [
    "model = models.Sequential()\n",
    "model.add(layers.Conv2D(32, (3, 3), activation= 'relu', input_shape= (32, 32, 3)))\n",
    "model.add(layers.Conv2D(64, (3, 3), activation= 'relu'))\n",
    "model.add(layers.MaxPooling2D((2,2)))\n",
    "model.add(layers.Conv2D(128, (3,3), activation= 'relu'))\n",
    "model.add(layers.Conv2D(128, (3,3), activation= 'relu'))\n",
    "model.add(layers.MaxPooling2D((2,2)))\n",
    "model.add(layers.Flatten())\n",
    "model.add(layers.Dropout(0.5))\n",
    "model.add(layers.Dense(512, activation= 'relu'))\n",
    "model.add(layers.Dense(10, activation= 'softmax'))\n",
    "\n",
    "model.summary()"
   ]
  },
  {
   "cell_type": "code",
   "execution_count": 3,
   "metadata": {},
   "outputs": [],
   "source": [
    "model.compile(optimizer= optimizers.RMSprop(lr=1e-4),\n",
    "             loss= 'categorical_crossentropy',\n",
    "             metrics= ['accuracy'])"
   ]
  },
  {
   "cell_type": "code",
   "execution_count": 4,
   "metadata": {},
   "outputs": [],
   "source": [
    "(x_train, y_train), (x_test, y_test) = cifar10.load_data()\n"
   ]
  },
  {
   "cell_type": "code",
   "execution_count": 5,
   "metadata": {},
   "outputs": [],
   "source": [
    "train_datagen = ImageDataGenerator(rescale= 1./255,\n",
    "                                  rotation_range= 40,\n",
    "                                  width_shift_range= 0.2,\n",
    "                                  height_shift_range= 0.2,\n",
    "                                  shear_range= 0.2,\n",
    "                                  zoom_range= 0.2,\n",
    "                                  horizontal_flip= True)"
   ]
  },
  {
   "cell_type": "code",
   "execution_count": 6,
   "metadata": {},
   "outputs": [],
   "source": [
    "x_test = x_test.astype('float32') / 255\n",
    "\n",
    "y_train = to_categorical(y_train)\n",
    "y_test = to_categorical(y_test)\n",
    "\n",
    "x_val = x_train[:1000]\n",
    "x_val = x_val.astype('float32')\n",
    "x_part = x_train[1000:3000] # select small data set to see effect of data augmentation in part 2\n",
    "y_val = y_train[:1000]\n",
    "y_part = y_train[1000:3000]\n",
    "\n",
    "train_generator = train_datagen.flow(x_part, y= y_part, batch_size= 20)"
   ]
  },
  {
   "cell_type": "code",
   "execution_count": 7,
   "metadata": {},
   "outputs": [
    {
     "name": "stdout",
     "output_type": "stream",
     "text": [
      "Epoch 1/100\n",
      "100/100 [==============================] - 3s 34ms/step - loss: 2.2613 - accuracy: 0.1395 - val_loss: 86.5376 - val_accuracy: 0.1820\n",
      "Epoch 2/100\n",
      "100/100 [==============================] - 3s 31ms/step - loss: 2.1006 - accuracy: 0.2035 - val_loss: 123.3347 - val_accuracy: 0.2390\n",
      "Epoch 3/100\n",
      "100/100 [==============================] - 4s 38ms/step - loss: 2.0324 - accuracy: 0.2375 - val_loss: 142.7227 - val_accuracy: 0.2730\n",
      "Epoch 4/100\n",
      "100/100 [==============================] - 3s 34ms/step - loss: 1.9720 - accuracy: 0.2650 - val_loss: 141.5783 - val_accuracy: 0.3130\n",
      "Epoch 5/100\n",
      "100/100 [==============================] - 3s 34ms/step - loss: 1.9459 - accuracy: 0.2695 - val_loss: 141.0011 - val_accuracy: 0.3230\n",
      "Epoch 6/100\n",
      "100/100 [==============================] - 3s 32ms/step - loss: 1.9109 - accuracy: 0.3030 - val_loss: 189.2097 - val_accuracy: 0.2940\n",
      "Epoch 7/100\n",
      "100/100 [==============================] - 3s 31ms/step - loss: 1.8844 - accuracy: 0.3060 - val_loss: 188.5018 - val_accuracy: 0.3150\n",
      "Epoch 8/100\n",
      "100/100 [==============================] - 3s 30ms/step - loss: 1.8831 - accuracy: 0.3040 - val_loss: 194.0762 - val_accuracy: 0.3170\n",
      "Epoch 9/100\n",
      "100/100 [==============================] - 3s 31ms/step - loss: 1.8498 - accuracy: 0.3205 - val_loss: 169.1282 - val_accuracy: 0.3540\n",
      "Epoch 10/100\n",
      "100/100 [==============================] - 3s 29ms/step - loss: 1.8393 - accuracy: 0.3245 - val_loss: 155.0214 - val_accuracy: 0.3680\n",
      "Epoch 11/100\n",
      "100/100 [==============================] - 3s 28ms/step - loss: 1.8428 - accuracy: 0.3105 - val_loss: 192.2120 - val_accuracy: 0.3320\n",
      "Epoch 12/100\n",
      "100/100 [==============================] - 3s 27ms/step - loss: 1.8131 - accuracy: 0.3340 - val_loss: 242.2980 - val_accuracy: 0.3020\n",
      "Epoch 13/100\n",
      "100/100 [==============================] - 3s 28ms/step - loss: 1.7907 - accuracy: 0.3385 - val_loss: 209.7029 - val_accuracy: 0.3240\n",
      "Epoch 14/100\n",
      "100/100 [==============================] - 3s 28ms/step - loss: 1.8031 - accuracy: 0.3375 - val_loss: 294.2904 - val_accuracy: 0.2820\n",
      "Epoch 15/100\n",
      "100/100 [==============================] - 3s 28ms/step - loss: 1.7804 - accuracy: 0.3440 - val_loss: 226.7449 - val_accuracy: 0.3140\n",
      "Epoch 16/100\n",
      "100/100 [==============================] - 3s 28ms/step - loss: 1.7548 - accuracy: 0.3545 - val_loss: 319.9515 - val_accuracy: 0.2780\n",
      "Epoch 17/100\n",
      "100/100 [==============================] - 3s 28ms/step - loss: 1.7713 - accuracy: 0.3465 - val_loss: 208.0759 - val_accuracy: 0.3440\n",
      "Epoch 18/100\n",
      "100/100 [==============================] - 3s 27ms/step - loss: 1.7406 - accuracy: 0.3620 - val_loss: 270.3333 - val_accuracy: 0.3150\n",
      "Epoch 19/100\n",
      "100/100 [==============================] - 3s 27ms/step - loss: 1.7282 - accuracy: 0.3665 - val_loss: 310.2750 - val_accuracy: 0.3030\n",
      "Epoch 20/100\n",
      "100/100 [==============================] - 3s 28ms/step - loss: 1.7197 - accuracy: 0.3610 - val_loss: 276.0609 - val_accuracy: 0.3260\n",
      "Epoch 21/100\n",
      "100/100 [==============================] - 3s 28ms/step - loss: 1.7219 - accuracy: 0.3675 - val_loss: 393.9242 - val_accuracy: 0.2620\n",
      "Epoch 22/100\n",
      "100/100 [==============================] - 3s 28ms/step - loss: 1.6939 - accuracy: 0.3740 - val_loss: 262.9518 - val_accuracy: 0.3510\n",
      "Epoch 23/100\n",
      "100/100 [==============================] - 3s 28ms/step - loss: 1.6763 - accuracy: 0.3735 - val_loss: 350.5084 - val_accuracy: 0.2770\n",
      "Epoch 24/100\n",
      "100/100 [==============================] - 3s 28ms/step - loss: 1.6776 - accuracy: 0.3805 - val_loss: 196.3524 - val_accuracy: 0.3900\n",
      "Epoch 25/100\n",
      "100/100 [==============================] - 3s 28ms/step - loss: 1.6642 - accuracy: 0.3885 - val_loss: 316.3902 - val_accuracy: 0.3010\n",
      "Epoch 26/100\n",
      "100/100 [==============================] - 3s 28ms/step - loss: 1.6519 - accuracy: 0.4010 - val_loss: 289.1393 - val_accuracy: 0.3250\n",
      "Epoch 27/100\n",
      "100/100 [==============================] - 3s 28ms/step - loss: 1.6580 - accuracy: 0.3805 - val_loss: 341.4874 - val_accuracy: 0.2930\n",
      "Epoch 28/100\n",
      "100/100 [==============================] - 3s 28ms/step - loss: 1.6456 - accuracy: 0.3905 - val_loss: 276.6626 - val_accuracy: 0.3400\n",
      "Epoch 29/100\n",
      "100/100 [==============================] - 3s 28ms/step - loss: 1.6424 - accuracy: 0.4010 - val_loss: 334.5362 - val_accuracy: 0.3150\n",
      "Epoch 30/100\n",
      "100/100 [==============================] - 3s 28ms/step - loss: 1.6094 - accuracy: 0.4160 - val_loss: 324.2666 - val_accuracy: 0.3170\n",
      "Epoch 31/100\n",
      "100/100 [==============================] - 3s 28ms/step - loss: 1.6022 - accuracy: 0.4260 - val_loss: 385.4383 - val_accuracy: 0.3030\n",
      "Epoch 32/100\n",
      "100/100 [==============================] - 3s 28ms/step - loss: 1.6048 - accuracy: 0.4180 - val_loss: 421.7152 - val_accuracy: 0.2870\n",
      "Epoch 33/100\n",
      "100/100 [==============================] - 3s 28ms/step - loss: 1.5838 - accuracy: 0.4235 - val_loss: 447.7188 - val_accuracy: 0.2760\n",
      "Epoch 34/100\n",
      "100/100 [==============================] - 3s 29ms/step - loss: 1.5835 - accuracy: 0.4305 - val_loss: 294.3818 - val_accuracy: 0.3510\n",
      "Epoch 35/100\n",
      "100/100 [==============================] - 3s 27ms/step - loss: 1.5581 - accuracy: 0.4510 - val_loss: 332.8434 - val_accuracy: 0.3520\n",
      "Epoch 36/100\n",
      "100/100 [==============================] - 3s 28ms/step - loss: 1.5698 - accuracy: 0.4405 - val_loss: 358.5260 - val_accuracy: 0.3120\n",
      "Epoch 37/100\n",
      "100/100 [==============================] - 3s 28ms/step - loss: 1.5486 - accuracy: 0.4340 - val_loss: 366.4467 - val_accuracy: 0.3240\n",
      "Epoch 38/100\n",
      "100/100 [==============================] - 3s 28ms/step - loss: 1.5433 - accuracy: 0.4365 - val_loss: 463.0914 - val_accuracy: 0.2720\n",
      "Epoch 39/100\n",
      "100/100 [==============================] - 3s 28ms/step - loss: 1.5568 - accuracy: 0.4465 - val_loss: 434.3291 - val_accuracy: 0.3000\n",
      "Epoch 40/100\n",
      "100/100 [==============================] - 3s 28ms/step - loss: 1.5205 - accuracy: 0.4545 - val_loss: 347.4765 - val_accuracy: 0.3370\n",
      "Epoch 41/100\n",
      "100/100 [==============================] - 3s 27ms/step - loss: 1.5218 - accuracy: 0.4525 - val_loss: 337.2021 - val_accuracy: 0.3500\n",
      "Epoch 42/100\n",
      "100/100 [==============================] - 3s 27ms/step - loss: 1.4985 - accuracy: 0.4560 - val_loss: 388.2138 - val_accuracy: 0.3230\n",
      "Epoch 43/100\n",
      "100/100 [==============================] - 3s 28ms/step - loss: 1.5074 - accuracy: 0.4620 - val_loss: 431.3687 - val_accuracy: 0.3060\n",
      "Epoch 44/100\n",
      "100/100 [==============================] - 3s 28ms/step - loss: 1.5131 - accuracy: 0.4580 - val_loss: 348.2696 - val_accuracy: 0.3390\n",
      "Epoch 45/100\n",
      "100/100 [==============================] - 3s 28ms/step - loss: 1.4846 - accuracy: 0.4715 - val_loss: 449.1753 - val_accuracy: 0.3030\n",
      "Epoch 46/100\n",
      "100/100 [==============================] - 3s 28ms/step - loss: 1.4976 - accuracy: 0.4645 - val_loss: 411.3714 - val_accuracy: 0.3170\n",
      "Epoch 47/100\n",
      "100/100 [==============================] - 3s 27ms/step - loss: 1.4749 - accuracy: 0.4700 - val_loss: 460.5945 - val_accuracy: 0.2880\n",
      "Epoch 48/100\n",
      "100/100 [==============================] - 3s 28ms/step - loss: 1.4669 - accuracy: 0.4645 - val_loss: 494.1935 - val_accuracy: 0.2840\n",
      "Epoch 49/100\n",
      "100/100 [==============================] - 3s 28ms/step - loss: 1.4679 - accuracy: 0.4760 - val_loss: 459.4295 - val_accuracy: 0.2940\n",
      "Epoch 50/100\n",
      "100/100 [==============================] - 3s 27ms/step - loss: 1.4697 - accuracy: 0.4735 - val_loss: 459.0989 - val_accuracy: 0.3070\n",
      "Epoch 51/100\n",
      "100/100 [==============================] - 3s 27ms/step - loss: 1.4433 - accuracy: 0.4780 - val_loss: 530.0284 - val_accuracy: 0.2750\n",
      "Epoch 52/100\n",
      "100/100 [==============================] - 3s 28ms/step - loss: 1.4829 - accuracy: 0.4650 - val_loss: 377.3945 - val_accuracy: 0.3530\n",
      "Epoch 53/100\n",
      "100/100 [==============================] - 3s 28ms/step - loss: 1.4533 - accuracy: 0.4955 - val_loss: 398.1685 - val_accuracy: 0.3070\n",
      "Epoch 54/100\n",
      "100/100 [==============================] - 3s 28ms/step - loss: 1.4475 - accuracy: 0.4820 - val_loss: 447.0093 - val_accuracy: 0.3200\n",
      "Epoch 55/100\n",
      "100/100 [==============================] - 3s 28ms/step - loss: 1.4304 - accuracy: 0.4770 - val_loss: 493.2282 - val_accuracy: 0.2860\n",
      "Epoch 56/100\n",
      "100/100 [==============================] - 3s 29ms/step - loss: 1.4172 - accuracy: 0.4965 - val_loss: 410.3123 - val_accuracy: 0.3440\n"
     ]
    },
    {
     "name": "stdout",
     "output_type": "stream",
     "text": [
      "Epoch 57/100\n",
      "100/100 [==============================] - 3s 28ms/step - loss: 1.4187 - accuracy: 0.5015 - val_loss: 401.6399 - val_accuracy: 0.3240\n",
      "Epoch 58/100\n",
      "100/100 [==============================] - 3s 28ms/step - loss: 1.4362 - accuracy: 0.4960 - val_loss: 391.4413 - val_accuracy: 0.3340\n",
      "Epoch 59/100\n",
      "100/100 [==============================] - 3s 27ms/step - loss: 1.4090 - accuracy: 0.4995 - val_loss: 344.6829 - val_accuracy: 0.3620\n",
      "Epoch 60/100\n",
      "100/100 [==============================] - 3s 27ms/step - loss: 1.4318 - accuracy: 0.4850 - val_loss: 326.4219 - val_accuracy: 0.3730\n",
      "Epoch 61/100\n",
      "100/100 [==============================] - 3s 28ms/step - loss: 1.4028 - accuracy: 0.5030 - val_loss: 468.6402 - val_accuracy: 0.3250\n",
      "Epoch 62/100\n",
      "100/100 [==============================] - 3s 28ms/step - loss: 1.4045 - accuracy: 0.4865 - val_loss: 401.4333 - val_accuracy: 0.3470\n",
      "Epoch 63/100\n",
      "100/100 [==============================] - 3s 28ms/step - loss: 1.3994 - accuracy: 0.4980 - val_loss: 485.8669 - val_accuracy: 0.3110\n",
      "Epoch 64/100\n",
      "100/100 [==============================] - 3s 27ms/step - loss: 1.3952 - accuracy: 0.4960 - val_loss: 400.0459 - val_accuracy: 0.3390\n",
      "Epoch 65/100\n",
      "100/100 [==============================] - 3s 28ms/step - loss: 1.3809 - accuracy: 0.5080 - val_loss: 371.9201 - val_accuracy: 0.3510\n",
      "Epoch 66/100\n",
      "100/100 [==============================] - 3s 28ms/step - loss: 1.3915 - accuracy: 0.5200 - val_loss: 489.2637 - val_accuracy: 0.3060\n",
      "Epoch 67/100\n",
      "100/100 [==============================] - 3s 27ms/step - loss: 1.4114 - accuracy: 0.5000 - val_loss: 422.3734 - val_accuracy: 0.3200\n",
      "Epoch 68/100\n",
      "100/100 [==============================] - 3s 29ms/step - loss: 1.3856 - accuracy: 0.5025 - val_loss: 463.9578 - val_accuracy: 0.3030\n",
      "Epoch 69/100\n",
      "100/100 [==============================] - 3s 28ms/step - loss: 1.4127 - accuracy: 0.4830 - val_loss: 370.7657 - val_accuracy: 0.3380\n",
      "Epoch 70/100\n",
      "100/100 [==============================] - 3s 28ms/step - loss: 1.3893 - accuracy: 0.4960 - val_loss: 469.1882 - val_accuracy: 0.3250\n",
      "Epoch 71/100\n",
      "100/100 [==============================] - 3s 27ms/step - loss: 1.3651 - accuracy: 0.5045 - val_loss: 451.5015 - val_accuracy: 0.3060\n",
      "Epoch 72/100\n",
      "100/100 [==============================] - 3s 27ms/step - loss: 1.3335 - accuracy: 0.5295 - val_loss: 435.1736 - val_accuracy: 0.3270\n",
      "Epoch 73/100\n",
      "100/100 [==============================] - 3s 28ms/step - loss: 1.3464 - accuracy: 0.5135 - val_loss: 684.9236 - val_accuracy: 0.2650\n",
      "Epoch 74/100\n",
      "100/100 [==============================] - 3s 28ms/step - loss: 1.3484 - accuracy: 0.5340 - val_loss: 427.0718 - val_accuracy: 0.3150\n",
      "Epoch 75/100\n",
      "100/100 [==============================] - 3s 28ms/step - loss: 1.3633 - accuracy: 0.5105 - val_loss: 454.2899 - val_accuracy: 0.3140\n",
      "Epoch 76/100\n",
      "100/100 [==============================] - 3s 28ms/step - loss: 1.3175 - accuracy: 0.5370 - val_loss: 338.2431 - val_accuracy: 0.3880\n",
      "Epoch 77/100\n",
      "100/100 [==============================] - 3s 28ms/step - loss: 1.3636 - accuracy: 0.5160 - val_loss: 387.5664 - val_accuracy: 0.3500\n",
      "Epoch 78/100\n",
      "100/100 [==============================] - 3s 27ms/step - loss: 1.3700 - accuracy: 0.5110 - val_loss: 300.8824 - val_accuracy: 0.4030\n",
      "Epoch 79/100\n",
      "100/100 [==============================] - 3s 28ms/step - loss: 1.3295 - accuracy: 0.5380 - val_loss: 394.5748 - val_accuracy: 0.3360\n",
      "Epoch 80/100\n",
      "100/100 [==============================] - 3s 28ms/step - loss: 1.3128 - accuracy: 0.5345 - val_loss: 411.4750 - val_accuracy: 0.3390\n",
      "Epoch 81/100\n",
      "100/100 [==============================] - 3s 28ms/step - loss: 1.3128 - accuracy: 0.5295 - val_loss: 535.8763 - val_accuracy: 0.2850\n",
      "Epoch 82/100\n",
      "100/100 [==============================] - 3s 28ms/step - loss: 1.3020 - accuracy: 0.5365 - val_loss: 365.1974 - val_accuracy: 0.3820\n",
      "Epoch 83/100\n",
      "100/100 [==============================] - 3s 28ms/step - loss: 1.2942 - accuracy: 0.5270 - val_loss: 421.3049 - val_accuracy: 0.3390\n",
      "Epoch 84/100\n",
      "100/100 [==============================] - 3s 28ms/step - loss: 1.2998 - accuracy: 0.5410 - val_loss: 500.6773 - val_accuracy: 0.3030\n",
      "Epoch 85/100\n",
      "100/100 [==============================] - 3s 28ms/step - loss: 1.2917 - accuracy: 0.5415 - val_loss: 475.4423 - val_accuracy: 0.3270\n",
      "Epoch 86/100\n",
      "100/100 [==============================] - 3s 28ms/step - loss: 1.3149 - accuracy: 0.5260 - val_loss: 462.2011 - val_accuracy: 0.3380\n",
      "Epoch 87/100\n",
      "100/100 [==============================] - 3s 28ms/step - loss: 1.3038 - accuracy: 0.5475 - val_loss: 468.8743 - val_accuracy: 0.3350\n",
      "Epoch 88/100\n",
      "100/100 [==============================] - 3s 28ms/step - loss: 1.3038 - accuracy: 0.5370 - val_loss: 327.4172 - val_accuracy: 0.3950\n",
      "Epoch 89/100\n",
      "100/100 [==============================] - 3s 28ms/step - loss: 1.2764 - accuracy: 0.5465 - val_loss: 441.9769 - val_accuracy: 0.3430\n",
      "Epoch 90/100\n",
      "100/100 [==============================] - 3s 28ms/step - loss: 1.2576 - accuracy: 0.5635 - val_loss: 333.1924 - val_accuracy: 0.3790\n",
      "Epoch 91/100\n",
      "100/100 [==============================] - 3s 28ms/step - loss: 1.2942 - accuracy: 0.5390 - val_loss: 390.1617 - val_accuracy: 0.3670\n",
      "Epoch 92/100\n",
      "100/100 [==============================] - 3s 27ms/step - loss: 1.2600 - accuracy: 0.5505 - val_loss: 367.0486 - val_accuracy: 0.3790\n",
      "Epoch 93/100\n",
      "100/100 [==============================] - 3s 27ms/step - loss: 1.2899 - accuracy: 0.5460 - val_loss: 339.2345 - val_accuracy: 0.3780\n",
      "Epoch 94/100\n",
      "100/100 [==============================] - 3s 29ms/step - loss: 1.2865 - accuracy: 0.5400 - val_loss: 473.1647 - val_accuracy: 0.3120\n",
      "Epoch 95/100\n",
      "100/100 [==============================] - 3s 28ms/step - loss: 1.2750 - accuracy: 0.5470 - val_loss: 428.8146 - val_accuracy: 0.3440\n",
      "Epoch 96/100\n",
      "100/100 [==============================] - 3s 28ms/step - loss: 1.2536 - accuracy: 0.5495 - val_loss: 400.5507 - val_accuracy: 0.3730\n",
      "Epoch 97/100\n",
      "100/100 [==============================] - 3s 28ms/step - loss: 1.2694 - accuracy: 0.5510 - val_loss: 487.3036 - val_accuracy: 0.3230\n",
      "Epoch 98/100\n",
      "100/100 [==============================] - 3s 27ms/step - loss: 1.2674 - accuracy: 0.5445 - val_loss: 459.5271 - val_accuracy: 0.3420\n",
      "Epoch 99/100\n",
      "100/100 [==============================] - 3s 28ms/step - loss: 1.2124 - accuracy: 0.5690 - val_loss: 442.1170 - val_accuracy: 0.3480\n",
      "Epoch 100/100\n",
      "100/100 [==============================] - 3s 28ms/step - loss: 1.2569 - accuracy: 0.5570 - val_loss: 429.1945 - val_accuracy: 0.3570\n"
     ]
    }
   ],
   "source": [
    "history = model.fit(train_generator, steps_per_epoch= 100, epochs= 100, validation_data= (x_val, y_val))"
   ]
  },
  {
   "cell_type": "code",
   "execution_count": 8,
   "metadata": {},
   "outputs": [
    {
     "data": {
      "image/png": "[encoded data removed]",
      "text/plain": [
       "<Figure size 432x288 with 1 Axes>"
      ]
     },
     "metadata": {
      "needs_background": "light"
     },
     "output_type": "display_data"
    }
   ],
   "source": [
    "import matplotlib.pyplot as plt\n",
    "\n",
    "acc = history.history['accuracy']\n",
    "val_acc = history.history['val_accuracy']\n",
    "loss = history.history['loss']\n",
    "val_loss = history.history['val_loss']\n",
    "epochs = range(1, len(acc) +1)\n",
    "\n",
    "plt.plot(epochs, loss, 'bo', label= 'Training Loss')\n",
    "plt.plot(epochs, val_loss, 'r', label= 'Validation Loss')\n",
    "plt.title('Training and validation loss of cifar10 model')\n",
    "plt.legend()\n",
    "plt.savefig('Results/6_2b/Loss.png');"
   ]
  },
  {
   "cell_type": "code",
   "execution_count": 10,
   "metadata": {},
   "outputs": [
    {
     "data": {
      "image/png": "[encoded data removed]",
      "text/plain": [
       "<Figure size 432x288 with 1 Axes>"
      ]
     },
     "metadata": {
      "needs_background": "light"
     },
     "output_type": "display_data"
    }
   ],
   "source": [
    "plt.plot(epochs, acc, 'bo', label= 'Training accuracy')\n",
    "plt.plot(epochs, val_acc, 'r', label= 'Validation accuracy')\n",
    "plt.title('Training and validation accuracy of cifar10 model')\n",
    "plt.legend()\n",
    "plt.savefig('Results/6_2b/Accuracy.png');"
   ]
  },
  {
   "cell_type": "code",
   "execution_count": 11,
   "metadata": {},
   "outputs": [],
   "source": [
    "model.save('Results/6_2b/model2.h5')"
   ]
  },
  {
   "cell_type": "code",
   "execution_count": 12,
   "metadata": {},
   "outputs": [
    {
     "name": "stdout",
     "output_type": "stream",
     "text": [
      "313/313 [==============================] - 3s 11ms/step - loss: 1.3944 - accuracy: 0.5337\n",
      "The model result for the test data is loss 1.3944133520126343 and accuracy 0.5336999893188477\n"
     ]
    }
   ],
   "source": [
    "result = model.evaluate(x_test, y_test)\n",
    "print(f'The model result for the test data is loss {result[0]} and accuracy {result[1]}')"
   ]
  },
  {
   "cell_type": "code",
   "execution_count": 13,
   "metadata": {},
   "outputs": [
    {
     "data": {
      "text/html": [
       "<div>\n",
       "<style scoped>\n",
       "    .dataframe tbody tr th:only-of-type {\n",
       "        vertical-align: middle;\n",
       "    }\n",
       "\n",
       "    .dataframe tbody tr th {\n",
       "        vertical-align: top;\n",
       "    }\n",
       "\n",
       "    .dataframe thead th {\n",
       "        text-align: right;\n",
       "    }\n",
       "</style>\n",
       "<table border=\"1\" class=\"dataframe\">\n",
       "  <thead>\n",
       "    <tr style=\"text-align: right;\">\n",
       "      <th></th>\n",
       "      <th>Actual</th>\n",
       "      <th>Predicted</th>\n",
       "    </tr>\n",
       "  </thead>\n",
       "  <tbody>\n",
       "    <tr>\n",
       "      <th>0</th>\n",
       "      <td>3</td>\n",
       "      <td>3</td>\n",
       "    </tr>\n",
       "    <tr>\n",
       "      <th>1</th>\n",
       "      <td>8</td>\n",
       "      <td>1</td>\n",
       "    </tr>\n",
       "    <tr>\n",
       "      <th>2</th>\n",
       "      <td>8</td>\n",
       "      <td>8</td>\n",
       "    </tr>\n",
       "    <tr>\n",
       "      <th>3</th>\n",
       "      <td>0</td>\n",
       "      <td>0</td>\n",
       "    </tr>\n",
       "    <tr>\n",
       "      <th>4</th>\n",
       "      <td>6</td>\n",
       "      <td>4</td>\n",
       "    </tr>\n",
       "    <tr>\n",
       "      <th>...</th>\n",
       "      <td>...</td>\n",
       "      <td>...</td>\n",
       "    </tr>\n",
       "    <tr>\n",
       "      <th>9995</th>\n",
       "      <td>8</td>\n",
       "      <td>5</td>\n",
       "    </tr>\n",
       "    <tr>\n",
       "      <th>9996</th>\n",
       "      <td>3</td>\n",
       "      <td>6</td>\n",
       "    </tr>\n",
       "    <tr>\n",
       "      <th>9997</th>\n",
       "      <td>5</td>\n",
       "      <td>5</td>\n",
       "    </tr>\n",
       "    <tr>\n",
       "      <th>9998</th>\n",
       "      <td>1</td>\n",
       "      <td>1</td>\n",
       "    </tr>\n",
       "    <tr>\n",
       "      <th>9999</th>\n",
       "      <td>7</td>\n",
       "      <td>7</td>\n",
       "    </tr>\n",
       "  </tbody>\n",
       "</table>\n",
       "<p>10000 rows × 2 columns</p>\n",
       "</div>"
      ],
      "text/plain": [
       "      Actual  Predicted\n",
       "0          3          3\n",
       "1          8          1\n",
       "2          8          8\n",
       "3          0          0\n",
       "4          6          4\n",
       "...      ...        ...\n",
       "9995       8          5\n",
       "9996       3          6\n",
       "9997       5          5\n",
       "9998       1          1\n",
       "9999       7          7\n",
       "\n",
       "[10000 rows x 2 columns]"
      ]
     },
     "execution_count": 13,
     "metadata": {},
     "output_type": "execute_result"
    }
   ],
   "source": [
    "import numpy as np\n",
    "import pandas as pd\n",
    "preds = model.predict(x_test)\n",
    "pred_class = np.argmax(preds, axis= 1)\n",
    "act = np.argmax(y_test, axis= 1)\n",
    "pred_df = pd.DataFrame({'Actual':act, 'Predicted':pred_class})\n",
    "pred_df"
   ]
  },
  {
   "cell_type": "code",
   "execution_count": 14,
   "metadata": {},
   "outputs": [],
   "source": [
    "pred_df.to_csv('Results/6_2b/predictions.csv')"
   ]
  },
  {
   "cell_type": "code",
   "execution_count": null,
   "metadata": {},
   "outputs": [],
   "source": []
  }
 ],
 "metadata": {
  "kernelspec": {
   "display_name": "Python 3",
   "language": "python",
   "name": "python3"
  },
  "language_info": {
   "codemirror_mode": {
    "name": "ipython",
    "version": 3
   },
   "file_extension": ".py",
   "mimetype": "text/x-python",
   "name": "python",
   "nbconvert_exporter": "python",
   "pygments_lexer": "ipython3",
   "version": "3.8.3"
  }
 },
 "nbformat": 4,
 "nbformat_minor": 4
}
