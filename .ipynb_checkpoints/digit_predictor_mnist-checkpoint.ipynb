{
 "cells": [
  {
   "cell_type": "code",
   "execution_count": 1,
   "metadata": {},
   "outputs": [],
   "source": [
    "from keras import models, layers\n"
   ]
  },
  {
   "cell_type": "code",
   "execution_count": 5,
   "metadata": {},
   "outputs": [
    {
     "name": "stdout",
     "output_type": "stream",
     "text": [
      "Model: \"sequential_3\"\n",
      "_________________________________________________________________\n",
      "Layer (type)                 Output Shape              Param #   \n",
      "=================================================================\n",
      "conv2d_8 (Conv2D)            (None, 26, 26, 32)        320       \n",
      "_________________________________________________________________\n",
      "max_pooling2d_6 (MaxPooling2 (None, 13, 13, 32)        0         \n",
      "_________________________________________________________________\n",
      "conv2d_9 (Conv2D)            (None, 11, 11, 64)        18496     \n",
      "_________________________________________________________________\n",
      "max_pooling2d_7 (MaxPooling2 (None, 5, 5, 64)          0         \n",
      "_________________________________________________________________\n",
      "conv2d_10 (Conv2D)           (None, 3, 3, 64)          36928     \n",
      "_________________________________________________________________\n",
      "flatten_1 (Flatten)          (None, 576)               0         \n",
      "_________________________________________________________________\n",
      "dense (Dense)                (None, 64)                36928     \n",
      "_________________________________________________________________\n",
      "dense_1 (Dense)              (None, 10)                650       \n",
      "=================================================================\n",
      "Total params: 93,322\n",
      "Trainable params: 93,322\n",
      "Non-trainable params: 0\n",
      "_________________________________________________________________\n"
     ]
    }
   ],
   "source": [
    "model = models.Sequential()\n",
    "model.add(layers.Conv2D(32, (3, 3), activation= 'relu', input_shape=(28,28,1)))\n",
    "model.add(layers.MaxPooling2D((2,2)))\n",
    "model.add(layers.Conv2D(64, (3,3),activation= 'relu'))\n",
    "model.add(layers.MaxPooling2D((2,2)))\n",
    "model.add(layers.Conv2D(64, (3,3), activation= 'relu'))\n",
    "\n",
    "model.add(layers.Flatten())\n",
    "model.add(layers.Dense(64, activation= 'relu'))\n",
    "model.add(layers.Dense(10, activation= 'softmax'))\n",
    "\n",
    "model.summary()"
   ]
  },
  {
   "cell_type": "code",
   "execution_count": 6,
   "metadata": {},
   "outputs": [],
   "source": [
    "from keras.utils import to_categorical\n",
    "from keras.datasets import mnist"
   ]
  },
  {
   "cell_type": "code",
   "execution_count": 9,
   "metadata": {},
   "outputs": [],
   "source": [
    "(train_images, train_labels), (test_images, test_labels) = mnist.load_data()\n",
    "\n",
    "train_images = train_images.reshape((60000, 28, 28, 1))\n",
    "train_images = train_images.astype('float32') / 255\n",
    "\n",
    "test_images = test_images.reshape((10000,28, 28, 1))\n",
    "test_images = test_images.astype('float32') / 255\n",
    "\n",
    "train_labels = to_categorical(train_labels)\n",
    "test_labels = to_categorical(test_labels)\n",
    "\n",
    "val_images = train_images[:10000]\n",
    "x_train = train_images[10000:]\n",
    "val_labels = train_labels[:10000]\n",
    "y_train = train_labels[10000:]"
   ]
  },
  {
   "cell_type": "code",
   "execution_count": 11,
   "metadata": {},
   "outputs": [
    {
     "name": "stdout",
     "output_type": "stream",
     "text": [
      "Epoch 1/20\n",
      "782/782 [==============================] - 12s 16ms/step - loss: 0.2010 - accuracy: 0.9384 - val_loss: 0.0630 - val_accuracy: 0.9813\n",
      "Epoch 2/20\n",
      "782/782 [==============================] - 11s 15ms/step - loss: 0.0518 - accuracy: 0.9841 - val_loss: 0.0537 - val_accuracy: 0.9834\n",
      "Epoch 3/20\n",
      "782/782 [==============================] - 11s 14ms/step - loss: 0.0356 - accuracy: 0.9890 - val_loss: 0.0516 - val_accuracy: 0.9860\n",
      "Epoch 4/20\n",
      "782/782 [==============================] - 11s 14ms/step - loss: 0.0270 - accuracy: 0.9914 - val_loss: 0.0401 - val_accuracy: 0.9898\n",
      "Epoch 5/20\n",
      "782/782 [==============================] - 11s 14ms/step - loss: 0.0209 - accuracy: 0.9937 - val_loss: 0.0476 - val_accuracy: 0.9869\n",
      "Epoch 6/20\n",
      "782/782 [==============================] - 11s 14ms/step - loss: 0.0164 - accuracy: 0.9947 - val_loss: 0.0526 - val_accuracy: 0.9875\n",
      "Epoch 7/20\n",
      "782/782 [==============================] - 11s 14ms/step - loss: 0.0142 - accuracy: 0.9955 - val_loss: 0.0492 - val_accuracy: 0.9894\n",
      "Epoch 8/20\n",
      "782/782 [==============================] - 11s 14ms/step - loss: 0.0112 - accuracy: 0.9964 - val_loss: 0.0473 - val_accuracy: 0.9909\n",
      "Epoch 9/20\n",
      "782/782 [==============================] - 11s 14ms/step - loss: 0.0092 - accuracy: 0.9971 - val_loss: 0.0507 - val_accuracy: 0.9916\n",
      "Epoch 10/20\n",
      "782/782 [==============================] - 11s 14ms/step - loss: 0.0077 - accuracy: 0.9976 - val_loss: 0.0648 - val_accuracy: 0.9895\n",
      "Epoch 11/20\n",
      "782/782 [==============================] - 11s 14ms/step - loss: 0.0081 - accuracy: 0.9977 - val_loss: 0.0608 - val_accuracy: 0.9889\n",
      "Epoch 12/20\n",
      "782/782 [==============================] - 11s 14ms/step - loss: 0.0069 - accuracy: 0.9980 - val_loss: 0.0656 - val_accuracy: 0.9882\n",
      "Epoch 13/20\n",
      "782/782 [==============================] - 11s 14ms/step - loss: 0.0052 - accuracy: 0.9986 - val_loss: 0.0773 - val_accuracy: 0.9883\n",
      "Epoch 14/20\n",
      "782/782 [==============================] - 11s 14ms/step - loss: 0.0054 - accuracy: 0.9984 - val_loss: 0.0692 - val_accuracy: 0.9907\n",
      "Epoch 15/20\n",
      "782/782 [==============================] - 11s 14ms/step - loss: 0.0035 - accuracy: 0.9988 - val_loss: 0.0943 - val_accuracy: 0.9884\n",
      "Epoch 16/20\n",
      "782/782 [==============================] - 11s 14ms/step - loss: 0.0041 - accuracy: 0.9988 - val_loss: 0.0627 - val_accuracy: 0.9910\n",
      "Epoch 17/20\n",
      "782/782 [==============================] - 11s 14ms/step - loss: 0.0034 - accuracy: 0.9991 - val_loss: 0.0855 - val_accuracy: 0.9900\n",
      "Epoch 18/20\n",
      "782/782 [==============================] - 11s 14ms/step - loss: 0.0040 - accuracy: 0.9988 - val_loss: 0.0855 - val_accuracy: 0.9885\n",
      "Epoch 19/20\n",
      "782/782 [==============================] - 11s 14ms/step - loss: 0.0027 - accuracy: 0.9992 - val_loss: 0.0797 - val_accuracy: 0.9903\n",
      "Epoch 20/20\n",
      "782/782 [==============================] - 11s 14ms/step - loss: 0.0032 - accuracy: 0.9991 - val_loss: 0.0728 - val_accuracy: 0.9913\n"
     ]
    }
   ],
   "source": [
    "model.compile(optimizer= 'rmsprop',\n",
    "             loss= 'categorical_crossentropy',\n",
    "             metrics= ['accuracy'])\n",
    "history = model.fit(x_train, y_train, epochs= 20, batch_size= 64, validation_data= (val_images, val_labels))"
   ]
  },
  {
   "cell_type": "code",
   "execution_count": 36,
   "metadata": {},
   "outputs": [
    {
     "data": {
      "image/png": "[encoded data removed]",
      "text/plain": [
       "<Figure size 432x288 with 1 Axes>"
      ]
     },
     "metadata": {
      "needs_background": "light"
     },
     "output_type": "display_data"
    }
   ],
   "source": [
    "import matplotlib.pyplot as plt\n",
    "\n",
    "acc = history.history['accuracy']\n",
    "val_acc = history.history['val_accuracy']\n",
    "loss = history.history['loss']\n",
    "val_loss = history.history['val_loss']\n",
    "epochs = range(1, len(acc) +1)\n",
    "\n",
    "plt.plot(epochs, loss, 'bo', label= 'Training Loss')\n",
    "plt.plot(epochs, val_loss, 'r', label= 'Validation Loss')\n",
    "plt.title('Training and validation loss of mnist model')\n",
    "plt.legend()\n",
    "plt.savefig('Results/6_1/Loss.png');"
   ]
  },
  {
   "cell_type": "code",
   "execution_count": 37,
   "metadata": {},
   "outputs": [
    {
     "data": {
      "image/png": "[encoded data removed]",
      "text/plain": [
       "<Figure size 432x288 with 1 Axes>"
      ]
     },
     "metadata": {
      "needs_background": "light"
     },
     "output_type": "display_data"
    }
   ],
   "source": [
    "plt.plot(epochs, acc, 'bo', label= 'Training accuracy')\n",
    "plt.plot(epochs, val_acc, 'r', label= 'Validation accuracy')\n",
    "plt.title('Training and validation accuracy of mnist model')\n",
    "plt.legend()\n",
    "plt.savefig('Results/6_1/Accuracy.png');"
   ]
  },
  {
   "cell_type": "code",
   "execution_count": 19,
   "metadata": {},
   "outputs": [
    {
     "name": "stdout",
     "output_type": "stream",
     "text": [
      "Epoch 1/9\n",
      "938/938 [==============================] - 13s 13ms/step - loss: 0.1837 - accuracy: 0.9426\n",
      "Epoch 2/9\n",
      "938/938 [==============================] - 12s 13ms/step - loss: 0.0492 - accuracy: 0.9849\n",
      "Epoch 3/9\n",
      "938/938 [==============================] - 12s 13ms/step - loss: 0.0329 - accuracy: 0.9900\n",
      "Epoch 4/9\n",
      "938/938 [==============================] - 12s 13ms/step - loss: 0.0248 - accuracy: 0.9924\n",
      "Epoch 5/9\n",
      "938/938 [==============================] - 12s 13ms/step - loss: 0.0191 - accuracy: 0.9942\n",
      "Epoch 6/9\n",
      "938/938 [==============================] - 12s 13ms/step - loss: 0.0161 - accuracy: 0.9951\n",
      "Epoch 7/9\n",
      "938/938 [==============================] - 12s 13ms/step - loss: 0.0127 - accuracy: 0.9958\n",
      "Epoch 8/9\n",
      "938/938 [==============================] - 12s 13ms/step - loss: 0.0105 - accuracy: 0.9968\n",
      "Epoch 9/9\n",
      "938/938 [==============================] - 12s 13ms/step - loss: 0.0097 - accuracy: 0.9969\n"
     ]
    },
    {
     "data": {
      "text/plain": [
       "<tensorflow.python.keras.callbacks.History at 0x7f7d7da764c0>"
      ]
     },
     "execution_count": 19,
     "metadata": {},
     "output_type": "execute_result"
    }
   ],
   "source": [
    "model = models.Sequential()\n",
    "model.add(layers.Conv2D(32, (3, 3), activation= 'relu', input_shape=(28,28,1)))\n",
    "model.add(layers.MaxPooling2D((2,2)))\n",
    "model.add(layers.Conv2D(64, (3,3),activation= 'relu'))\n",
    "model.add(layers.MaxPooling2D((2,2)))\n",
    "model.add(layers.Conv2D(64, (3,3), activation= 'relu'))\n",
    "model.add(layers.Flatten())\n",
    "model.add(layers.Dense(64, activation= 'relu'))\n",
    "model.add(layers.Dense(10, activation= 'softmax'))\n",
    "\n",
    "model.compile(optimizer= 'rmsprop',\n",
    "             loss= 'categorical_crossentropy',\n",
    "             metrics= ['accuracy'])\n",
    "model.fit(train_images, train_labels, epochs= 9, batch_size= 64)"
   ]
  },
  {
   "cell_type": "code",
   "execution_count": 38,
   "metadata": {},
   "outputs": [],
   "source": [
    "model.save('Results/6_1/mode.h5')"
   ]
  },
  {
   "cell_type": "code",
   "execution_count": 22,
   "metadata": {},
   "outputs": [
    {
     "name": "stdout",
     "output_type": "stream",
     "text": [
      "313/313 [==============================] - 1s 4ms/step - loss: 0.0335 - accuracy: 0.9915\n",
      "The model reult for the test data is loss 0.03350549191236496 and accuracy 0.9915000200271606\n"
     ]
    }
   ],
   "source": [
    "result = model.evaluate(test_images, test_labels)\n",
    "print(f'The model reult for the test data is loss {result[0]} and accuracy {result[1]}')"
   ]
  },
  {
   "cell_type": "code",
   "execution_count": 40,
   "metadata": {},
   "outputs": [
    {
     "data": {
      "text/html": [
       "<div>\n",
       "<style scoped>\n",
       "    .dataframe tbody tr th:only-of-type {\n",
       "        vertical-align: middle;\n",
       "    }\n",
       "\n",
       "    .dataframe tbody tr th {\n",
       "        vertical-align: top;\n",
       "    }\n",
       "\n",
       "    .dataframe thead th {\n",
       "        text-align: right;\n",
       "    }\n",
       "</style>\n",
       "<table border=\"1\" class=\"dataframe\">\n",
       "  <thead>\n",
       "    <tr style=\"text-align: right;\">\n",
       "      <th></th>\n",
       "      <th>Actual</th>\n",
       "      <th>Predicted</th>\n",
       "    </tr>\n",
       "  </thead>\n",
       "  <tbody>\n",
       "    <tr>\n",
       "      <th>0</th>\n",
       "      <td>7</td>\n",
       "      <td>7</td>\n",
       "    </tr>\n",
       "    <tr>\n",
       "      <th>1</th>\n",
       "      <td>2</td>\n",
       "      <td>2</td>\n",
       "    </tr>\n",
       "    <tr>\n",
       "      <th>2</th>\n",
       "      <td>1</td>\n",
       "      <td>1</td>\n",
       "    </tr>\n",
       "    <tr>\n",
       "      <th>3</th>\n",
       "      <td>0</td>\n",
       "      <td>0</td>\n",
       "    </tr>\n",
       "    <tr>\n",
       "      <th>4</th>\n",
       "      <td>4</td>\n",
       "      <td>4</td>\n",
       "    </tr>\n",
       "    <tr>\n",
       "      <th>...</th>\n",
       "      <td>...</td>\n",
       "      <td>...</td>\n",
       "    </tr>\n",
       "    <tr>\n",
       "      <th>9995</th>\n",
       "      <td>2</td>\n",
       "      <td>2</td>\n",
       "    </tr>\n",
       "    <tr>\n",
       "      <th>9996</th>\n",
       "      <td>3</td>\n",
       "      <td>3</td>\n",
       "    </tr>\n",
       "    <tr>\n",
       "      <th>9997</th>\n",
       "      <td>4</td>\n",
       "      <td>4</td>\n",
       "    </tr>\n",
       "    <tr>\n",
       "      <th>9998</th>\n",
       "      <td>5</td>\n",
       "      <td>5</td>\n",
       "    </tr>\n",
       "    <tr>\n",
       "      <th>9999</th>\n",
       "      <td>6</td>\n",
       "      <td>6</td>\n",
       "    </tr>\n",
       "  </tbody>\n",
       "</table>\n",
       "<p>10000 rows × 2 columns</p>\n",
       "</div>"
      ],
      "text/plain": [
       "      Actual  Predicted\n",
       "0          7          7\n",
       "1          2          2\n",
       "2          1          1\n",
       "3          0          0\n",
       "4          4          4\n",
       "...      ...        ...\n",
       "9995       2          2\n",
       "9996       3          3\n",
       "9997       4          4\n",
       "9998       5          5\n",
       "9999       6          6\n",
       "\n",
       "[10000 rows x 2 columns]"
      ]
     },
     "execution_count": 40,
     "metadata": {},
     "output_type": "execute_result"
    }
   ],
   "source": [
    "import numpy as np\n",
    "import pandas as pd\n",
    "preds = model.predict(test_images)\n",
    "pred_class = np.argmax(preds, axis= 1)\n",
    "act = np.argmax(test_labels, axis= 1)\n",
    "pred_df = pd.DataFrame({'Actual':act, 'Predicted':pred_class})\n",
    "pred_df"
   ]
  },
  {
   "cell_type": "code",
   "execution_count": 41,
   "metadata": {},
   "outputs": [],
   "source": [
    "pred_df.to_csv('Results/6_1/predictions.csv')"
   ]
  },
  {
   "cell_type": "code",
   "execution_count": null,
   "metadata": {},
   "outputs": [],
   "source": []
  }
 ],
 "metadata": {
  "kernelspec": {
   "display_name": "Python 3",
   "language": "python",
   "name": "python3"
  },
  "language_info": {
   "codemirror_mode": {
    "name": "ipython",
    "version": 3
   },
   "file_extension": ".py",
   "mimetype": "text/x-python",
   "name": "python",
   "nbconvert_exporter": "python",
   "pygments_lexer": "ipython3",
   "version": "3.8.3"
  }
 },
 "nbformat": 4,
 "nbformat_minor": 4
}
