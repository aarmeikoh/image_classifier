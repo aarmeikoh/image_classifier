{
 "cells": [
  {
   "cell_type": "code",
   "execution_count": 1,
   "metadata": {},
   "outputs": [],
   "source": [
    "from keras import models, layers\n"
   ]
  },
  {
   "cell_type": "code",
   "execution_count": 2,
   "metadata": {},
   "outputs": [
    {
     "name": "stdout",
     "output_type": "stream",
     "text": [
      "Model: \"sequential\"\n",
      "_________________________________________________________________\n",
      " Layer (type)                Output Shape              Param #   \n",
      "=================================================================\n",
      " conv2d (Conv2D)             (None, 26, 26, 32)        320       \n",
      "                                                                 \n",
      " max_pooling2d (MaxPooling2D  (None, 13, 13, 32)       0         \n",
      " )                                                               \n",
      "                                                                 \n",
      " conv2d_1 (Conv2D)           (None, 11, 11, 64)        18496     \n",
      "                                                                 \n",
      " max_pooling2d_1 (MaxPooling  (None, 5, 5, 64)         0         \n",
      " 2D)                                                             \n",
      "                                                                 \n",
      " conv2d_2 (Conv2D)           (None, 3, 3, 64)          36928     \n",
      "                                                                 \n",
      " flatten (Flatten)           (None, 576)               0         \n",
      "                                                                 \n",
      " dense (Dense)               (None, 64)                36928     \n",
      "                                                                 \n",
      " dense_1 (Dense)             (None, 10)                650       \n",
      "                                                                 \n",
      "=================================================================\n",
      "Total params: 93,322\n",
      "Trainable params: 93,322\n",
      "Non-trainable params: 0\n",
      "_________________________________________________________________\n"
     ]
    }
   ],
   "source": [
    "model = models.Sequential()\n",
    "model.add(layers.Conv2D(32, (3, 3), activation= 'relu', input_shape=(28,28,1)))\n",
    "model.add(layers.MaxPooling2D((2,2)))\n",
    "model.add(layers.Conv2D(64, (3,3),activation= 'relu'))\n",
    "model.add(layers.MaxPooling2D((2,2)))\n",
    "model.add(layers.Conv2D(64, (3,3), activation= 'relu'))\n",
    "\n",
    "model.add(layers.Flatten())\n",
    "model.add(layers.Dense(64, activation= 'relu'))\n",
    "model.add(layers.Dense(10, activation= 'softmax'))\n",
    "\n",
    "model.summary()"
   ]
  },
  {
   "cell_type": "code",
   "execution_count": 4,
   "metadata": {},
   "outputs": [],
   "source": [
    "from tensorflow.keras.utils import to_categorical\n",
    "from keras.datasets import mnist"
   ]
  },
  {
   "cell_type": "code",
   "execution_count": 5,
   "metadata": {},
   "outputs": [
    {
     "name": "stdout",
     "output_type": "stream",
     "text": [
      "Downloading data from https://storage.googleapis.com/tensorflow/tf-keras-datasets/mnist.npz\n",
      "11493376/11490434 [==============================] - 137s 12us/step\n",
      "11501568/11490434 [==============================] - 137s 12us/step\n"
     ]
    }
   ],
   "source": [
    "(train_images, train_labels), (test_images, test_labels) = mnist.load_data()\n",
    "\n",
    "train_images = train_images.reshape((60000, 28, 28, 1))\n",
    "train_images = train_images.astype('float32') / 255\n",
    "\n",
    "test_images = test_images.reshape((10000,28, 28, 1))\n",
    "test_images = test_images.astype('float32') / 255\n",
    "\n",
    "train_labels = to_categorical(train_labels)\n",
    "test_labels = to_categorical(test_labels)\n",
    "\n",
    "val_images = train_images[:10000]\n",
    "x_train = train_images[10000:]\n",
    "val_labels = train_labels[:10000]\n",
    "y_train = train_labels[10000:]"
   ]
  },
  {
   "cell_type": "code",
   "execution_count": 6,
   "metadata": {},
   "outputs": [
    {
     "name": "stdout",
     "output_type": "stream",
     "text": [
      "Epoch 1/20\n",
      "782/782 [==============================] - 41s 51ms/step - loss: 0.2009 - accuracy: 0.9359 - val_loss: 0.0772 - val_accuracy: 0.9768\n",
      "Epoch 2/20\n",
      "782/782 [==============================] - 42s 54ms/step - loss: 0.0528 - accuracy: 0.9837 - val_loss: 0.0510 - val_accuracy: 0.9855\n",
      "Epoch 3/20\n",
      "782/782 [==============================] - 36s 46ms/step - loss: 0.0346 - accuracy: 0.9895 - val_loss: 0.0448 - val_accuracy: 0.9871\n",
      "Epoch 4/20\n",
      "782/782 [==============================] - 34s 44ms/step - loss: 0.0259 - accuracy: 0.9919 - val_loss: 0.0466 - val_accuracy: 0.9885\n",
      "Epoch 5/20\n",
      "782/782 [==============================] - 37s 47ms/step - loss: 0.0204 - accuracy: 0.9933 - val_loss: 0.0423 - val_accuracy: 0.9899\n",
      "Epoch 6/20\n",
      "782/782 [==============================] - 33s 43ms/step - loss: 0.0171 - accuracy: 0.9949 - val_loss: 0.0929 - val_accuracy: 0.9823\n",
      "Epoch 7/20\n",
      "782/782 [==============================] - 39s 49ms/step - loss: 0.0140 - accuracy: 0.9956 - val_loss: 0.0457 - val_accuracy: 0.9888\n",
      "Epoch 8/20\n",
      "782/782 [==============================] - 33s 42ms/step - loss: 0.0109 - accuracy: 0.9968 - val_loss: 0.0453 - val_accuracy: 0.9904\n",
      "Epoch 9/20\n",
      "782/782 [==============================] - 34s 44ms/step - loss: 0.0091 - accuracy: 0.9974 - val_loss: 0.0479 - val_accuracy: 0.9903\n",
      "Epoch 10/20\n",
      "782/782 [==============================] - 34s 43ms/step - loss: 0.0086 - accuracy: 0.9974 - val_loss: 0.0537 - val_accuracy: 0.9898\n",
      "Epoch 11/20\n",
      "782/782 [==============================] - 39s 50ms/step - loss: 0.0066 - accuracy: 0.9979 - val_loss: 0.0450 - val_accuracy: 0.9910\n",
      "Epoch 12/20\n",
      "782/782 [==============================] - 50s 64ms/step - loss: 0.0058 - accuracy: 0.9981 - val_loss: 0.0554 - val_accuracy: 0.9894\n",
      "Epoch 13/20\n",
      "782/782 [==============================] - 34s 44ms/step - loss: 0.0052 - accuracy: 0.9985 - val_loss: 0.0699 - val_accuracy: 0.9882\n",
      "Epoch 14/20\n",
      "782/782 [==============================] - 34s 44ms/step - loss: 0.0049 - accuracy: 0.9986 - val_loss: 0.0739 - val_accuracy: 0.9902\n",
      "Epoch 15/20\n",
      "782/782 [==============================] - 35s 45ms/step - loss: 0.0044 - accuracy: 0.9987 - val_loss: 0.0577 - val_accuracy: 0.9911\n",
      "Epoch 16/20\n",
      "782/782 [==============================] - 37s 48ms/step - loss: 0.0044 - accuracy: 0.9987 - val_loss: 0.0776 - val_accuracy: 0.9902\n",
      "Epoch 17/20\n",
      "782/782 [==============================] - 41s 53ms/step - loss: 0.0041 - accuracy: 0.9987 - val_loss: 0.0817 - val_accuracy: 0.9898\n",
      "Epoch 18/20\n",
      "782/782 [==============================] - 36s 46ms/step - loss: 0.0037 - accuracy: 0.9989 - val_loss: 0.0761 - val_accuracy: 0.9905\n",
      "Epoch 19/20\n",
      "782/782 [==============================] - 35s 45ms/step - loss: 0.0031 - accuracy: 0.9992 - val_loss: 0.1183 - val_accuracy: 0.9882\n",
      "Epoch 20/20\n",
      "782/782 [==============================] - 36s 47ms/step - loss: 0.0040 - accuracy: 0.9988 - val_loss: 0.0719 - val_accuracy: 0.9907\n"
     ]
    }
   ],
   "source": [
    "model.compile(optimizer= 'rmsprop',\n",
    "             loss= 'categorical_crossentropy',\n",
    "             metrics= ['accuracy'])\n",
    "history = model.fit(x_train, y_train, epochs= 20, batch_size= 64, validation_data= (val_images, val_labels))"
   ]
  },
  {
   "cell_type": "code",
   "execution_count": 7,
   "metadata": {},
   "outputs": [
    {
     "data": {
      "image/png": "[encoded data removed]",
      "text/plain": [
       "<Figure size 432x288 with 1 Axes>"
      ]
     },
     "metadata": {
      "needs_background": "light"
     },
     "output_type": "display_data"
    }
   ],
   "source": [
    "import matplotlib.pyplot as plt\n",
    "\n",
    "acc = history.history['accuracy']\n",
    "val_acc = history.history['val_accuracy']\n",
    "loss = history.history['loss']\n",
    "val_loss = history.history['val_loss']\n",
    "epochs = range(1, len(acc) +1)\n",
    "\n",
    "plt.plot(epochs, loss, 'bo', label= 'Training Loss')\n",
    "plt.plot(epochs, val_loss, 'r', label= 'Validation Loss')\n",
    "plt.title('Training and validation loss of mnist model')\n",
    "plt.legend()\n",
    "plt.savefig('Results/6_1/Loss.png');"
   ]
  },
  {
   "cell_type": "code",
   "execution_count": 8,
   "metadata": {},
   "outputs": [
    {
     "data": {
      "image/png": "[encoded data removed]",
      "text/plain": [
       "<Figure size 432x288 with 1 Axes>"
      ]
     },
     "metadata": {
      "needs_background": "light"
     },
     "output_type": "display_data"
    }
   ],
   "source": [
    "plt.plot(epochs, acc, 'bo', label= 'Training accuracy')\n",
    "plt.plot(epochs, val_acc, 'r', label= 'Validation accuracy')\n",
    "plt.title('Training and validation accuracy of mnist model')\n",
    "plt.legend()\n",
    "plt.savefig('Results/6_1/Accuracy.png');"
   ]
  },
  {
   "cell_type": "code",
   "execution_count": 9,
   "metadata": {},
   "outputs": [
    {
     "name": "stdout",
     "output_type": "stream",
     "text": [
      "Epoch 1/9\n",
      "938/938 [==============================] - 40s 41ms/step - loss: 0.1714 - accuracy: 0.9461\n",
      "Epoch 2/9\n",
      "938/938 [==============================] - 45s 48ms/step - loss: 0.0494 - accuracy: 0.9851\n",
      "Epoch 3/9\n",
      "938/938 [==============================] - 41s 44ms/step - loss: 0.0347 - accuracy: 0.9891\n",
      "Epoch 4/9\n",
      "938/938 [==============================] - 46s 50ms/step - loss: 0.0257 - accuracy: 0.9922\n",
      "Epoch 5/9\n",
      "938/938 [==============================] - 50s 53ms/step - loss: 0.0207 - accuracy: 0.9937\n",
      "Epoch 6/9\n",
      "938/938 [==============================] - 41s 44ms/step - loss: 0.0162 - accuracy: 0.9948\n",
      "Epoch 7/9\n",
      "938/938 [==============================] - 56s 60ms/step - loss: 0.0133 - accuracy: 0.9959\n",
      "Epoch 8/9\n",
      "938/938 [==============================] - 48s 51ms/step - loss: 0.0106 - accuracy: 0.9967\n",
      "Epoch 9/9\n",
      "938/938 [==============================] - 40s 42ms/step - loss: 0.0104 - accuracy: 0.9969\n"
     ]
    },
    {
     "data": {
      "text/plain": [
       "<keras.callbacks.History at 0x2565c8bfe20>"
      ]
     },
     "execution_count": 9,
     "metadata": {},
     "output_type": "execute_result"
    }
   ],
   "source": [
    "model = models.Sequential()\n",
    "model.add(layers.Conv2D(32, (3, 3), activation= 'relu', input_shape=(28,28,1)))\n",
    "model.add(layers.MaxPooling2D((2,2)))\n",
    "model.add(layers.Conv2D(64, (3,3),activation= 'relu'))\n",
    "model.add(layers.MaxPooling2D((2,2)))\n",
    "model.add(layers.Conv2D(64, (3,3), activation= 'relu'))\n",
    "model.add(layers.Flatten())\n",
    "model.add(layers.Dense(64, activation= 'relu'))\n",
    "model.add(layers.Dense(10, activation= 'softmax'))\n",
    "\n",
    "model.compile(optimizer= 'rmsprop',\n",
    "             loss= 'categorical_crossentropy',\n",
    "             metrics= ['accuracy'])\n",
    "model.fit(train_images, train_labels, epochs= 9, batch_size= 64)"
   ]
  },
  {
   "cell_type": "code",
   "execution_count": 10,
   "metadata": {},
   "outputs": [],
   "source": [
    "model.save('Results/6_1/mode.h5')"
   ]
  },
  {
   "cell_type": "code",
   "execution_count": 11,
   "metadata": {},
   "outputs": [
    {
     "name": "stdout",
     "output_type": "stream",
     "text": [
      "313/313 [==============================] - 3s 8ms/step - loss: 0.0368 - accuracy: 0.9905\n",
      "The model result for the test data is loss 0.03683258220553398 and accuracy 0.9904999732971191\n"
     ]
    }
   ],
   "source": [
    "result = model.evaluate(test_images, test_labels)\n",
    "print(f'The model result for the test data is loss {result[0]} and accuracy {result[1]}')"
   ]
  },
  {
   "cell_type": "code",
   "execution_count": 12,
   "metadata": {},
   "outputs": [
    {
     "data": {
      "text/html": [
       "<div>\n",
       "<style scoped>\n",
       "    .dataframe tbody tr th:only-of-type {\n",
       "        vertical-align: middle;\n",
       "    }\n",
       "\n",
       "    .dataframe tbody tr th {\n",
       "        vertical-align: top;\n",
       "    }\n",
       "\n",
       "    .dataframe thead th {\n",
       "        text-align: right;\n",
       "    }\n",
       "</style>\n",
       "<table border=\"1\" class=\"dataframe\">\n",
       "  <thead>\n",
       "    <tr style=\"text-align: right;\">\n",
       "      <th></th>\n",
       "      <th>Actual</th>\n",
       "      <th>Predicted</th>\n",
       "    </tr>\n",
       "  </thead>\n",
       "  <tbody>\n",
       "    <tr>\n",
       "      <th>0</th>\n",
       "      <td>7</td>\n",
       "      <td>7</td>\n",
       "    </tr>\n",
       "    <tr>\n",
       "      <th>1</th>\n",
       "      <td>2</td>\n",
       "      <td>2</td>\n",
       "    </tr>\n",
       "    <tr>\n",
       "      <th>2</th>\n",
       "      <td>1</td>\n",
       "      <td>1</td>\n",
       "    </tr>\n",
       "    <tr>\n",
       "      <th>3</th>\n",
       "      <td>0</td>\n",
       "      <td>0</td>\n",
       "    </tr>\n",
       "    <tr>\n",
       "      <th>4</th>\n",
       "      <td>4</td>\n",
       "      <td>4</td>\n",
       "    </tr>\n",
       "    <tr>\n",
       "      <th>...</th>\n",
       "      <td>...</td>\n",
       "      <td>...</td>\n",
       "    </tr>\n",
       "    <tr>\n",
       "      <th>9995</th>\n",
       "      <td>2</td>\n",
       "      <td>2</td>\n",
       "    </tr>\n",
       "    <tr>\n",
       "      <th>9996</th>\n",
       "      <td>3</td>\n",
       "      <td>3</td>\n",
       "    </tr>\n",
       "    <tr>\n",
       "      <th>9997</th>\n",
       "      <td>4</td>\n",
       "      <td>4</td>\n",
       "    </tr>\n",
       "    <tr>\n",
       "      <th>9998</th>\n",
       "      <td>5</td>\n",
       "      <td>5</td>\n",
       "    </tr>\n",
       "    <tr>\n",
       "      <th>9999</th>\n",
       "      <td>6</td>\n",
       "      <td>6</td>\n",
       "    </tr>\n",
       "  </tbody>\n",
       "</table>\n",
       "<p>10000 rows × 2 columns</p>\n",
       "</div>"
      ],
      "text/plain": [
       "      Actual  Predicted\n",
       "0          7          7\n",
       "1          2          2\n",
       "2          1          1\n",
       "3          0          0\n",
       "4          4          4\n",
       "...      ...        ...\n",
       "9995       2          2\n",
       "9996       3          3\n",
       "9997       4          4\n",
       "9998       5          5\n",
       "9999       6          6\n",
       "\n",
       "[10000 rows x 2 columns]"
      ]
     },
     "execution_count": 12,
     "metadata": {},
     "output_type": "execute_result"
    }
   ],
   "source": [
    "import numpy as np\n",
    "import pandas as pd\n",
    "preds = model.predict(test_images)\n",
    "pred_class = np.argmax(preds, axis= 1)\n",
    "act = np.argmax(test_labels, axis= 1)\n",
    "pred_df = pd.DataFrame({'Actual':act, 'Predicted':pred_class})\n",
    "pred_df"
   ]
  },
  {
   "cell_type": "code",
   "execution_count": 13,
   "metadata": {},
   "outputs": [],
   "source": [
    "pred_df.to_csv('Results/6_1/predictions.csv')"
   ]
  },
  {
   "cell_type": "code",
   "execution_count": null,
   "metadata": {},
   "outputs": [],
   "source": []
  }
 ],
 "metadata": {
  "kernelspec": {
   "display_name": "Python 3 (ipykernel)",
   "language": "python",
   "name": "python3"
  },
  "language_info": {
   "codemirror_mode": {
    "name": "ipython",
    "version": 3
   },
   "file_extension": ".py",
   "mimetype": "text/x-python",
   "name": "python",
   "nbconvert_exporter": "python",
   "pygments_lexer": "ipython3",
   "version": "3.9.7"
  }
 },
 "nbformat": 4,
 "nbformat_minor": 4
}
